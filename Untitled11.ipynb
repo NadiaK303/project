{
 "cells": [
  {
   "cell_type": "code",
   "execution_count": null,
   "id": "a5644c09",
   "metadata": {},
   "outputs": [],
   "source": [
    "import random\n",
    "import matplotlib.pyplot as plt\n",
    "import numpy as np\n",
    "import math\n",
    "bet = 0\n",
    "while True:\n",
    "    bet = input ('Введите ставку:')\n",
    "    try:\n",
    "        bet = int(bet)\n",
    "        if bet > 36:\n",
    "            print('Ошибка ставки')\n",
    "            break\n",
    "        bet_1 = round(np.random.uniform (0,36))\n",
    "        if bet == bet_1:\n",
    "            print(bet_1, 'Вы выиграли')\n",
    "        else:\n",
    "            print(bet_1, 'Вы проиграли')\n",
    "    except ValueError:\n",
    "        if bet == 'красное' or bet == 'черное':\n",
    "            bet_2 = round(np.random.uniform (0,36))\n",
    "            if bet_2 % 2 != 0 and bet == 'черное':\n",
    "                print(bet_2, 'черное','Вы выиграли')\n",
    "            elif bet_2 % 2 ==0 and bet =='красное' and bet_2 !=0:\n",
    "                print(bet_2, 'красное', 'Вы выиграли')\n",
    "            else:\n",
    "                print(bet_2, 'Вы проиграли')\n",
    "        else:\n",
    "            print('Ошибка ставки')\n",
    "            break\n",
    "\n"
   ]
  },
  {
   "cell_type": "code",
   "execution_count": null,
   "id": "9651fafe",
   "metadata": {},
   "outputs": [],
   "source": []
  },
  {
   "cell_type": "code",
   "execution_count": null,
   "id": "09047526",
   "metadata": {},
   "outputs": [],
   "source": []
  }
 ],
 "metadata": {
  "kernelspec": {
   "display_name": "Python 3 (ipykernel)",
   "language": "python",
   "name": "python3"
  },
  "language_info": {
   "codemirror_mode": {
    "name": "ipython",
    "version": 3
   },
   "file_extension": ".py",
   "mimetype": "text/x-python",
   "name": "python",
   "nbconvert_exporter": "python",
   "pygments_lexer": "ipython3",
   "version": "3.9.7"
  }
 },
 "nbformat": 4,
 "nbformat_minor": 5
}
