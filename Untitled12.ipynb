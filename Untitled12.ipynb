{
 "cells": [
  {
   "cell_type": "code",
   "execution_count": 1,
   "id": "a13dd177",
   "metadata": {},
   "outputs": [
    {
     "name": "stdout",
     "output_type": "stream",
     "text": [
      "\n",
      "Количество выпадания орлов 36 и 34 решек при 70 попыток\n",
      "\n",
      "Количество выпадания орлов 46 и 39 решек при 85 попыток\n",
      "\n",
      "Количество выпадания орлов 36 и 64 решек при 100 попыток\n",
      "\n",
      "Количество выпадания орлов 48 и 67 решек при 115 попыток\n",
      "\n",
      "Вероятность выпадения 35 орлов при 70 попыток - 9.50255 %\n",
      "Вероятность выпадения 40 орлов при 70 попыток - 4.68814 %\n",
      "Вероятность выпадения 45 орлов при 70 попыток - 0.54682 %\n",
      "Вероятность выпадения 50 орлов при 70 попыток - 0.01371 %\n",
      "Вероятность выпадения 55 орлов при 70 попыток - 0.00006 %\n",
      "\n",
      "Вероятность выпадения 35 орлов при 85 попыток - 2.31711 %\n",
      "Вероятность выпадения 40 орлов при 85 попыток - 7.46099 %\n",
      "Вероятность выпадения 45 орлов при 85 попыток - 7.46099 %\n",
      "Вероятность выпадения 50 орлов при 85 попыток - 2.31711 %\n",
      "Вероятность выпадения 55 орлов при 85 попыток - 0.21623 %\n",
      "\n",
      "Вероятность выпадения 35 орлов при 100 попыток - 0.08639 %\n",
      "Вероятность выпадения 40 орлов при 100 попыток - 1.08439 %\n",
      "Вероятность выпадения 45 орлов при 100 попыток - 4.84743 %\n",
      "Вероятность выпадения 50 орлов при 100 попыток - 7.95892 %\n",
      "Вероятность выпадения 55 орлов при 100 попыток - 4.84743 %\n",
      "\n",
      "Вероятность выпадения 35 орлов при 115 попыток - 0.00095 %\n",
      "Вероятность выпадения 40 орлов при 115 попыток - 0.03479 %\n",
      "Вероятность выпадения 45 орлов при 115 попыток - 0.49144 %\n",
      "Вероятность выпадения 50 орлов при 115 попыток - 2.80728 %\n",
      "Вероятность выпадения 55 орлов при 115 попыток - 6.66553 %\n",
      "\n",
      " [16, 15, 17, 8, 9, 16, 13, 15, 14, 14, 15, 16, 18, 13, 18, 16, 14, 16, 13, 15, 18, 10, 12, 5, 17, 16, 10, 11, 14, 15, 12, 19, 10, 13, 16, 15, 17, 16, 18, 15] [14, 15, 13, 22, 21, 14, 17, 15, 16, 16, 15, 14, 12, 17, 12, 14, 16, 14, 17, 15, 12, 20, 18, 25, 13, 14, 20, 19, 16, 15, 18, 11, 20, 17, 14, 15, 13, 14, 12, 15]\n"
     ]
    },
    {
     "data": {
      "image/png": "[encoded data removed]",
      "text/plain": [
       "<Figure size 432x288 with 1 Axes>"
      ]
     },
     "metadata": {
      "needs_background": "light"
     },
     "output_type": "display_data"
    },
    {
     "name": "stdout",
     "output_type": "stream",
     "text": [
      "\n",
      " Kоэффициент корреляции равен -1.0\n"
     ]
    },
    {
     "name": "stderr",
     "output_type": "stream",
     "text": [
      "C:\\Users\\User\\AppData\\Local\\Temp/ipykernel_5372/2009682247.py:44: RuntimeWarning: invalid value encountered in true_divide\n",
      "  R1 = np.sum((X[i]-X[i-1])*(Y[i]-Y[i-1]))/np.sqrt((np.sum(X[i]-X[i-1])**2)*np.sum((Y[i]-Y[i-1])**2))\n"
     ]
    }
   ],
   "source": [
    "import random\n",
    "import matplotlib.pyplot as plt\n",
    "import numpy as np\n",
    "import math\n",
    "import random\n",
    "import matplotlib.pyplot as plt\n",
    "import numpy as np\n",
    "import math\n",
    "for n in range (70, 130, 15):\n",
    "    print()\n",
    "    k, m = 0, 0\n",
    "    for i in range(0, n):\n",
    "        x = np.random.uniform(0, 10)\n",
    "        if x<5:\n",
    "            k = k + 1\n",
    "        else:\n",
    "            m = m + 1\n",
    "    print (f'Количество выпадания орлов {k} и {m} решек при {n} попыток')\n",
    "p =0.5 #успех\n",
    "q = (1-p)\n",
    "for n in range (70, 130, 15):\n",
    "    print()\n",
    "    for k in range (35, 60, 5):\n",
    "        P=(math.factorial(n)/(math.factorial(k)*math.factorial(n-k)))*(p**k)*(q**(n-k))*100\n",
    "        print (f'Вероятность выпадения {k} орлов при {n} попыток - {P:.5f} %')\n",
    "X=[]\n",
    "Y=[]\n",
    "for n in range (75, 115):\n",
    "    x, y = 0, 0\n",
    "    for i in range(0, 30):\n",
    "        k = np.random.uniform(0, 10)\n",
    "        if k<5:\n",
    "            x += 1\n",
    "        else:\n",
    "            y += 1\n",
    "    X.append(x)\n",
    "    Y.append(y)\n",
    "print('\\n',X,Y)\n",
    "plt.hist(X, bins='auto')\n",
    "plt.show()\n",
    "#R = np.corrcoef (X,Y)\n",
    "#print('\\n', f'Kоэффициент корреляции равен {R}')\n",
    "for i in range (1, len(X)):\n",
    "    R1 = np.sum((X[i]-X[i-1])*(Y[i]-Y[i-1]))/np.sqrt((np.sum(X[i]-X[i-1])**2)*np.sum((Y[i]-Y[i-1])**2))\n",
    "print('\\n',f'Kоэффициент корреляции равен {R1}') "
   ]
  },
  {
   "cell_type": "code",
   "execution_count": null,
   "id": "c6d9f767",
   "metadata": {},
   "outputs": [],
   "source": []
  }
 ],
 "metadata": {
  "kernelspec": {
   "display_name": "Python 3 (ipykernel)",
   "language": "python",
   "name": "python3"
  },
  "language_info": {
   "codemirror_mode": {
    "name": "ipython",
    "version": 3
   },
   "file_extension": ".py",
   "mimetype": "text/x-python",
   "name": "python",
   "nbconvert_exporter": "python",
   "pygments_lexer": "ipython3",
   "version": "3.9.7"
  }
 },
 "nbformat": 4,
 "nbformat_minor": 5
}
