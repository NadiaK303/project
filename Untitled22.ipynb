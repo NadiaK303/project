{
 "cells": [
  {
   "cell_type": "code",
   "execution_count": 2,
   "id": "73d7facf",
   "metadata": {},
   "outputs": [
    {
     "name": "stdout",
     "output_type": "stream",
     "text": [
      "2\n",
      "3\n"
     ]
    },
    {
     "data": {
      "text/plain": [
       "array([ 2.83726777e+16, -5.67453553e+16,  2.83726777e+16])"
      ]
     },
     "execution_count": 2,
     "metadata": {},
     "output_type": "execute_result"
    }
   ],
   "source": [
    "#Сколько решений имеет линейная система\n",
    "import numpy as np\n",
    "import matplotlib.pyplot as plt\n",
    "A = np.array([[1, 2, 3], [4, 5, 6], [7, 8, 9]], float)\n",
    "B = np.array([12, 2, 1], float)\n",
    "C = np.array([[1, 2, 3, 12], [4, 5, 6, 2], [7, 8, 9, 1]], float)\n",
    "print(np.linalg.matrix_rank(A, 0.0001))\n",
    "print(np.linalg.matrix_rank(C, 0.0001))\n",
    "np.linalg.solve(A, B)"
   ]
  },
  {
   "cell_type": "code",
   "execution_count": 3,
   "id": "2cb13779",
   "metadata": {},
   "outputs": [
    {
     "name": "stdout",
     "output_type": "stream",
     "text": [
      "[ 0.  0. -0.]\n"
     ]
    }
   ],
   "source": [
    "B = np.array([0, 0, 0], float)\n",
    "print(np.linalg.solve(A, B))"
   ]
  },
  {
   "cell_type": "code",
   "execution_count": 4,
   "id": "179f06a2",
   "metadata": {},
   "outputs": [
    {
     "name": "stdout",
     "output_type": "stream",
     "text": [
      "[-0.6  4.2 -0.6]\n",
      "[0. 0. 0.]\n"
     ]
    }
   ],
   "source": [
    "#Предположим, что решение x = [1, 1, 1]\n",
    "B = np.array([6, 15, 24], float)\n",
    "x = np.linalg.solve(A, B)\n",
    "print(x)\n",
    "print(np.dot(A, x) - B)"
   ]
  },
  {
   "cell_type": "code",
   "execution_count": 5,
   "id": "2b65d85d",
   "metadata": {},
   "outputs": [
    {
     "name": "stdout",
     "output_type": "stream",
     "text": [
      "[0. 0. 0.]\n",
      "2\n"
     ]
    }
   ],
   "source": [
    "print(np.dot(A, np.array([1, 1, 1], float)) - B)\n",
    "C = np.array([[1, 2, 3, 6], [4, 5, 6, 15], [7, 8, 9, 24]], float)\n",
    "print(np.linalg.matrix_rank(C, 0.0001))\n"
   ]
  },
  {
   "cell_type": "code",
   "execution_count": null,
   "id": "d69aa34e",
   "metadata": {},
   "outputs": [],
   "source": []
  }
 ],
 "metadata": {
  "kernelspec": {
   "display_name": "Python 3 (ipykernel)",
   "language": "python",
   "name": "python3"
  },
  "language_info": {
   "codemirror_mode": {
    "name": "ipython",
    "version": 3
   },
   "file_extension": ".py",
   "mimetype": "text/x-python",
   "name": "python",
   "nbconvert_exporter": "python",
   "pygments_lexer": "ipython3",
   "version": "3.9.7"
  }
 },
 "nbformat": 4,
 "nbformat_minor": 5
}
