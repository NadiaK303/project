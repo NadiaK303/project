{
 "cells": [
  {
   "cell_type": "code",
   "execution_count": 1,
   "id": "a3e2e5f7",
   "metadata": {},
   "outputs": [
    {
     "name": "stdout",
     "output_type": "stream",
     "text": [
      "1.0\n",
      "[501, 457, 311, 513, 384, 481, 376, 543, 474]\n"
     ]
    },
    {
     "data": {
      "image/png": "[encoded data removed]",
      "text/plain": [
       "<Figure size 432x288 with 1 Axes>"
      ]
     },
     "metadata": {
      "needs_background": "light"
     },
     "output_type": "display_data"
    }
   ],
   "source": [
    "import random\n",
    "import matplotlib.pyplot as plt\n",
    "import numpy as np\n",
    "import math\n",
    "# Вероятность выпадения красного\n",
    "Pn_red = 18/37\n",
    "# Вероятность черного\n",
    "Pn_black = 18/37\n",
    "# Вероятность зеро\n",
    "Pn_0 = 1/37\n",
    "#Вероятность выпадения любого числа\n",
    "P = Pn_red+Pn_black+Pn_0\n",
    "print(P)\n",
    "\n",
    "import random\n",
    "import matplotlib.pyplot as plt\n",
    "x=[]\n",
    "for i in range (0,9):\n",
    "    x.append(sum(random.sample(range(100), 10)))\n",
    "print(x)\n",
    "plt.hist(x, bins='auto')\n",
    "plt.show()"
   ]
  },
  {
   "cell_type": "code",
   "execution_count": null,
   "id": "f2d61b82",
   "metadata": {},
   "outputs": [],
   "source": []
  }
 ],
 "metadata": {
  "kernelspec": {
   "display_name": "Python 3 (ipykernel)",
   "language": "python",
   "name": "python3"
  },
  "language_info": {
   "codemirror_mode": {
    "name": "ipython",
    "version": 3
   },
   "file_extension": ".py",
   "mimetype": "text/x-python",
   "name": "python",
   "nbconvert_exporter": "python",
   "pygments_lexer": "ipython3",
   "version": "3.9.7"
  }
 },
 "nbformat": 4,
 "nbformat_minor": 5
}
